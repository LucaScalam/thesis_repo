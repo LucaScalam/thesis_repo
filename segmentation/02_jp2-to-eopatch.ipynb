{
 "cells": [
  {
   "cell_type": "markdown",
   "metadata": {},
   "source": [
    "# Creating EOPatches from JP2 files\n",
    "\n",
    "- Bbox_splitter: creation of the bounding boxes corresponding to the eopatches that will be created for the entire region of Pergamino.\n",
    "- JP2toEOP: the task \"ImportFromJP2\" will allow us to load data from JP2 files into the eopatches.\n",
    "- GDF for k-folding: for future tasks (k-cross validation) we need to create a special geodataframe."
   ]
  },
  {
   "cell_type": "code",
   "execution_count": 1,
   "metadata": {},
   "outputs": [],
   "source": [
    "from scipy import stats\n",
    "import pandas as pd\n",
    "\n",
    "import matplotlib as mpl\n",
    "import matplotlib.pyplot as plt\n",
    "\n",
    "from pathlib import Path\n",
    "from enum import Enum\n",
    "from tqdm import tqdm \n",
    "from contextlib import contextmanager  \n",
    "\n",
    "import geopandas as gpd\n",
    "from shapely.geometry import Polygon\n",
    "\n",
    "import rasterio\n",
    "from rasterio import Affine, MemoryFile\n",
    "from rasterio.enums import Resampling\n",
    "from rasterio import plot\n",
    "from rasterio.plot import show\n",
    "from rasterio.mask import mask\n",
    "from rasterio.warp import calculate_default_transform, reproject, Resampling\n",
    "import rasterio.crs\n",
    "\n",
    "from sentinelhub import BBoxSplitter, BBox, CRS, CustomUrlParam\n",
    "\n",
    "from eolearn.core import EOTask, EOPatch, LinearWorkflow, FeatureType, OverwritePermission, \\\n",
    "    LoadFromDisk, SaveToDisk, EOExecutor, SaveTask \n",
    "from eolearn.io import S2L1CWCSInput, ExportToTiff\n",
    "from eolearn.io.local_io import *\n",
    "from eolearn.mask import AddCloudMaskTask, get_s2_pixel_cloud_detector, AddValidDataMaskTask, AddMultiCloudMaskTask\n",
    "from eolearn.mask.utilities import resize_images\n",
    "from eolearn.geometry import VectorToRaster, PointSamplingTask, ErosionTask\n",
    "from eolearn.features import LinearInterpolation, SimpleFilterTask, InterpolationTask, ValueFilloutTask, \\\n",
    "    HaralickTask, AddMaxMinNDVISlopeIndicesTask, AddMaxMinTemporalIndicesTask, AddSpatioTemporalFeaturesTask, \\\n",
    "    HOGTask, MaxNDVICompositing, LocalBinaryPatternTask\n",
    "\n",
    "from fd.jp2_to_EOP import (import_jp2,get_val_mask)"
   ]
  },
  {
   "cell_type": "markdown",
   "metadata": {},
   "source": [
    "### Workflow for reading data"
   ]
  },
  {
   "cell_type": "code",
   "execution_count": 2,
   "metadata": {},
   "outputs": [
    {
     "name": "stderr",
     "output_type": "stream",
     "text": [
      "/home/lscalambrin/miniconda3/envs/deep_crop/lib/python3.8/site-packages/ipykernel/ipkernel.py:283: DeprecationWarning: `should_run_async` will not call `transform_cell` automatically in the future. Please pass the result to `transformed_cell` argument and any exception that happen during thetransform in `preprocessing_exc_tuple` in IPython 7.17 and above.\n",
      "  and should_run_async(code)\n",
      "/home/lscalambrin/miniconda3/envs/deep_crop/lib/python3.8/site-packages/eolearn/mask/cloud_mask.py:86: SHDeprecationWarning: AddCloudMaskTask is being deprecated. Please use AddMultiCloudMaskTask instead. See showcase at examples/mask/CloudMaskTask.ipynb\n",
      "  warnings.warn(\"AddCloudMaskTask is being deprecated. Please use AddMultiCloudMaskTask instead. \"\n"
     ]
    }
   ],
   "source": [
    "### Paths\n",
    "\n",
    "## Path to jp2000 files\n",
    "path_jp2 = '/data-id/lscalambrin/scenes/camp1819'\n",
    "\n",
    "## Path to area of interest shapefile\n",
    "#AOI Pergamino\n",
    "# path_shapes = '/data-id/lscalambrin' + '/vectores/LotesDibujados/Pergamino'\n",
    "#AOI Gral Lopez\n",
    "path_shapes = '/data/lscalambrin/proyecto_integrador/extras/felix/desafioAgtech/data/dataset'\n",
    "\n",
    "## Path to save new eopatches\n",
    "save_patch = '/data-id/lscalambrin/proyecto_integrador/segmentation/gral_lopez/eopatches2'\n",
    "\n",
    "## Bad data from Pergamino or Gral Lopez\n",
    "bad_data_pergamino = ['20180109T135101','20180325T135109','20180208T135111','20180320T135111',\n",
    "           '20171110T135111','20171225T135059','20180315T135109','20171115T135059',\n",
    "           '20171130T135111','20171016T135059','20180104T135059','20170911T135111','20171215T135059',\n",
    "           '20180330T135111','20180310T135111', '20180102T140051']\n",
    "\n",
    "\n",
    "bad_data_gral_lopez = ['20181007T141039','20181121T141041','20190105T141049','20181201T141041','20181226T141039'] # All from HNH\n",
    "\n",
    "\n",
    "add_data = import_jp2((FeatureType.DATA, 'BANDS'), path_jp2, bad_data_gral_lopez)\n",
    "\n",
    "cloud_classifier = get_s2_pixel_cloud_detector(average_over=2, dilation_size=1, all_bands=True)\n",
    "\n",
    "add_clm = AddCloudMaskTask(\n",
    "                            cloud_classifier, 'BANDS', cm_size_y='80m', cm_size_x='80m', \n",
    "                           cmask_feature='CLM', # cloud mask name\n",
    "                           cprobs_feature='CLP' # cloud prob. map name\n",
    "                          )\n",
    "\n",
    "add_sh_valmask = get_val_mask()\n",
    "\n",
    "# TASK FOR SAVING TO OUTPUT\n",
    "save = SaveTask(save_patch, overwrite_permission=OverwritePermission.OVERWRITE_PATCH)\n",
    "\n",
    "workflow = LinearWorkflow(add_data, \n",
    "                          add_clm, \n",
    "                          add_sh_valmask,\n",
    "                          save)\n"
   ]
  },
  {
   "cell_type": "markdown",
   "metadata": {},
   "source": [
    "### Bbox creation\n",
    "Here we create all the Bounding boxes which correspond to the EOPatches that will be used for the segmentation of Pergamino. There are 32 EOPatches covering the entire region."
   ]
  },
  {
   "cell_type": "code",
   "execution_count": 4,
   "metadata": {},
   "outputs": [
    {
     "name": "stderr",
     "output_type": "stream",
     "text": [
      "/home/lscalambrin/miniconda3/envs/deep_crop/lib/python3.8/site-packages/pyproj/crs/crs.py:53: FutureWarning: '+init=<authority>:<code>' syntax is deprecated. '<authority>:<code>' is the preferred initialization method. When making the change, be mindful of axis order changes: https://pyproj4.github.io/pyproj/stable/gotchas.html#axis-order-changes-in-proj-6\n",
      "  return _prepare_from_string(\" \".join(pjargs))\n"
     ]
    }
   ],
   "source": [
    "## AOI shapefile\n",
    "#For Gral Lopez\n",
    "pergamino_gpdf = gpd.read_file(path_shapes+'/Gral Lopez.shp')\n",
    "#For Pergamino\n",
    "# pergamino_gpdf = gpd.read_file(path_shapes+'/20180228_Completo_32720.shp')\n",
    "\n",
    "pergamino_crs = CRS.UTM_20S\n",
    "pergamino_gpdf = pergamino_gpdf.to_crs(crs={'init': CRS.ogc_string(pergamino_crs)})\n",
    "pergamino_gpdf.geometry = pergamino_gpdf.buffer(0.1)\n",
    "pergamino = pergamino_gpdf.geometry.unary_union.buffer(380)\n",
    "\n",
    "bbox_splitter_complete = BBoxSplitter([pergamino], pergamino_crs, (1,1)) # 6 x 6 pergamino\n",
    "bbox_complete = bbox_splitter_complete.get_bbox_list()\n",
    "\n",
    "tmp = bbox_complete[0].get_partition(size_x = 12630, size_y = 11890)\n",
    "tmp = np.asarray(tmp)\n",
    "\n",
    "bbox_list = []\n",
    "info_list = []\n",
    "for i in range(tmp.shape[0]):\n",
    "    for j in range(tmp.shape[1]):\n",
    "        if bbox_splitter_complete._intersects_area(tmp[i][j]):\n",
    "            bbox_list.append(tmp[i][j])\n",
    "            info_list.append({'parent_bbox': bbox_complete[0], 'index_x': i, 'index_y':j})\n",
    "\n",
    "info_list = np.asarray(info_list)\n",
    "bbox_list = np.asarray(bbox_list)\n",
    "\n",
    "# Create patchIDs\n",
    "patchIDs = []\n",
    "for idx, [bbox, info] in enumerate(zip(bbox_list, info_list)):\n",
    "    patchIDs.append(idx)\n",
    "    \n",
    "# Prepare info of selected EOPatches\n",
    "geometry = [Polygon(bbox.get_polygon()) for bbox in bbox_list[patchIDs]]\n",
    "idxs_x = [info['index_x'] for info in info_list[patchIDs]]\n",
    "idxs_y = [info['index_y'] for info in info_list[patchIDs]]\n",
    "\n",
    "gdf = gpd.GeoDataFrame({'index_x': idxs_x, 'index_y': idxs_y}, \n",
    "                       crs={'init': CRS.ogc_string(pergamino_crs)}, \n",
    "                       geometry=geometry)"
   ]
  },
  {
   "cell_type": "markdown",
   "metadata": {},
   "source": [
    "### Plot of AOI and eopatches to be created"
   ]
  },
  {
   "cell_type": "code",
   "execution_count": 6,
   "metadata": {},
   "outputs": [
    {
     "data": {
      "image/png": "[encoded data removed]",
      "text/plain": [
       "<Figure size 720x720 with 1 Axes>"
      ]
     },
     "metadata": {
      "needs_background": "light"
     },
     "output_type": "display_data"
    }
   ],
   "source": [
    "fig, ax = plt.subplots(figsize=(10, 10))\n",
    "gdf.plot(ax=ax,facecolor='w',edgecolor='r',alpha=0.5)\n",
    "pergamino_gpdf = gpd.GeoDataFrame(geometry=[pergamino])\n",
    "pergamino_gpdf.plot(ax=ax, facecolor='w',edgecolor='b',alpha=0.5)\n",
    "# ax.set_title('EOPatches Area of Interest', size=18);\n",
    "plt.axis('off')\n",
    "plt.show()"
   ]
  },
  {
   "cell_type": "markdown",
   "metadata": {},
   "source": [
    "### Execution of workflow"
   ]
  },
  {
   "cell_type": "code",
   "execution_count": 7,
   "metadata": {},
   "outputs": [
    {
     "name": "stderr",
     "output_type": "stream",
     "text": [
      "/home/lscalambrin/miniconda3/envs/deep_crop/lib/python3.8/site-packages/ipykernel/ipkernel.py:283: DeprecationWarning: `should_run_async` will not call `transform_cell` automatically in the future. Please pass the result to `transformed_cell` argument and any exception that happen during thetransform in `preprocessing_exc_tuple` in IPython 7.17 and above.\n",
      "  and should_run_async(code)\n"
     ]
    }
   ],
   "source": [
    "### args for the workflow\n",
    "\n",
    "execution_args = []\n",
    "for idx, bbox in enumerate(bbox_list[patchIDs]):\n",
    "    execution_args.append({\n",
    "        add_data:{'eopatch': EOPatch(bbox=bbox)},\n",
    "        save: {'eopatch_folder': f'eopatch_{idx}'}\n",
    "    });"
   ]
  },
  {
   "cell_type": "code",
   "execution_count": 8,
   "metadata": {},
   "outputs": [
    {
     "data": {
      "text/plain": [
       "97"
      ]
     },
     "execution_count": 8,
     "metadata": {},
     "output_type": "execute_result"
    }
   ],
   "source": [
    "len(execution_args)"
   ]
  },
  {
   "cell_type": "markdown",
   "metadata": {},
   "source": [
    "#### Individual execution"
   ]
  },
  {
   "cell_type": "code",
   "execution_count": 9,
   "metadata": {
    "tags": []
   },
   "outputs": [
    {
     "name": "stdout",
     "output_type": "stream",
     "text": [
      "--- comenzando: 0\n",
      "tiles available: ['T20HNH' 'T20HPH']\n",
      "--------------------- date: 0, 20181004T140049\n",
      "--> bad_data: 20181007T141039\n",
      "--------------------- date: 1, 20181009T140051\n",
      "date: 20181009T140051 removed\n",
      "--------------------- date: 2, 20181014T140049\n",
      "date: 20181014T140049 removed\n",
      "--------------------- date: 3, 20181103T140049\n",
      "--------------------- date: 4, 20181108T140051\n",
      "date: 20181108T140051 removed\n",
      "--------------------- date: 5, 20181118T140051\n",
      "--> bad_data: 20181121T141041\n",
      "--------------------- date: 6, 20181123T140049\n",
      "--------------------- date: 7, 20181128T140041\n",
      "--> bad_data: 20181201T141041\n",
      "--------------------- date: 8, 20181203T140049\n",
      "date: 20181203T140049 removed\n",
      "--------------------- date: 9, 20181208T140041\n",
      "--------------------- date: 10, 20181223T140049\n",
      "--> bad_data: 20181226T141039\n",
      "--> bad_data: 20190105T141049\n",
      "--------------------- date: 11, 20190206T140051\n",
      "--------------------- date: 12, 20190216T140051\n",
      "--------------------- date: 13, 20190226T140051\n",
      "--------------------- date: 14, 20190303T140049\n",
      "--------------------- date: 15, 20190313T140049\n",
      "0: finalizado\n"
     ]
    }
   ],
   "source": [
    "for i in range(len(execution_args)):\n",
    "    if i<1:\n",
    "        print(f'--- comenzando: {i}')\n",
    "        eop = workflow.execute(execution_args[i])\n",
    "        print(f'{i}: finalizado')"
   ]
  },
  {
   "cell_type": "markdown",
   "metadata": {},
   "source": [
    "## gdf for the future\n",
    "This geodataframa file is then use for the k-folding process (notebook 07)."
   ]
  },
  {
   "cell_type": "code",
   "execution_count": 13,
   "metadata": {},
   "outputs": [],
   "source": [
    "eop_list = [f'eopatch_{idx}' for idx in range(len(execution_args))]\n",
    "data = {'name': eop_list} \n",
    "\n",
    "gdf_grid_eop = gpd.GeoDataFrame(data) \n",
    "gdf_grid_eop['geometry'] = gdf['geometry']\n",
    "gdf_grid_eop.head()\n",
    "\n",
    "gdf_grid_eop.to_file(\"./gral_lopez/grid_eop.gpkg\", driver=\"GPKG\")"
   ]
  },
  {
   "cell_type": "code",
   "execution_count": 1,
   "metadata": {},
   "outputs": [],
   "source": [
    "# gdf_grid_eop.to_file(\"./gral_lopez/grid_eop_s.gpkg\", driver=\"GPKG\")"
   ]
  }
 ],
 "metadata": {
  "kernelspec": {
   "display_name": "Python 3",
   "language": "python",
   "name": "python3"
  },
  "language_info": {
   "codemirror_mode": {
    "name": "ipython",
    "version": 3
   },
   "file_extension": ".py",
   "mimetype": "text/x-python",
   "name": "python",
   "nbconvert_exporter": "python",
   "pygments_lexer": "ipython3",
   "version": "3.8.6"
  }
 },
 "nbformat": 4,
 "nbformat_minor": 4
}

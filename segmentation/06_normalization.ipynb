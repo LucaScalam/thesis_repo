{
 "cells": [
  {
   "cell_type": "markdown",
   "metadata": {},
   "source": [
    "# Normalization stats per timestamp \n",
    "- Here we calculate some raster's stats. This is really useful to check that all patchlets have valid data. In the future, this stats will be use to normalize the used data.\n"
   ]
  },
  {
   "cell_type": "code",
   "execution_count": null,
   "metadata": {},
   "outputs": [],
   "source": [
    "import os\n",
    "import shutil\n",
    "\n",
    "print(os.getcwd())"
   ]
  },
  {
   "cell_type": "code",
   "execution_count": null,
   "metadata": {},
   "outputs": [],
   "source": [
    "from functools import partial\n",
    "from concurrent.futures import ProcessPoolExecutor\n",
    "\n",
    "import numpy as np\n",
    "import pandas as pd\n",
    "from matplotlib import pyplot as plt\n",
    "\n",
    "from tqdm.auto import tqdm\n",
    "\n",
    "from fd.compute_normalization import (ComputeNormalizationConfig, \n",
    "                                      stats_per_npz_ts, \n",
    "                                      prepare_filesystem,\n",
    "                                      concat_npz_results,\n",
    "                                      create_per_band_norm_dataframe)\n",
    "from fd.utils import multiprocess"
   ]
  },
  {
   "cell_type": "markdown",
   "metadata": {},
   "source": [
    "## Config"
   ]
  },
  {
   "cell_type": "code",
   "execution_count": null,
   "metadata": {},
   "outputs": [],
   "source": [
    "save_patchlet_npz = '/data/lscalambrin/proyecto_integrador/segmentation/pergamino/patchlets_npz'\n",
    "df_path = '/data/lscalambrin/proyecto_integrador/segmentation/pergamino/patchlet-info.csv'\n",
    "\n",
    "config = ComputeNormalizationConfig(\n",
    "    bucket_name='bucket-name',\n",
    "    aws_access_key_id='',\n",
    "    aws_secret_access_key='',\n",
    "    aws_region='eu-central-1',\n",
    "    npz_files_folder=save_patchlet_npz,\n",
    "    metadata_file=df_path)"
   ]
  },
  {
   "cell_type": "code",
   "execution_count": null,
   "metadata": {},
   "outputs": [],
   "source": [
    "npz_files = os.listdir(config.npz_files_folder)"
   ]
  },
  {
   "cell_type": "code",
   "execution_count": null,
   "metadata": {},
   "outputs": [],
   "source": [
    "partial_fn = partial(stats_per_npz_ts, config=config)\n",
    "results = multiprocess(partial_fn, npz_files, max_workers=24)"
   ]
  },
  {
   "cell_type": "code",
   "execution_count": null,
   "metadata": {},
   "outputs": [],
   "source": [
    "# choose here which stats you are interested in from\n",
    "stats_keys = ['mean', 'std', 'median', 'perc_99']\n",
    "identifier_keys = ['timestamp', 'patchlet'] \n",
    "\n",
    "concatenated_stats = {}\n",
    "\n",
    "for key in stats_keys+identifier_keys: \n",
    "    concatenated_stats[key] = concat_npz_results(key, results)"
   ]
  },
  {
   "cell_type": "code",
   "execution_count": null,
   "metadata": {},
   "outputs": [],
   "source": [
    "df = create_per_band_norm_dataframe(concatenated_stats, stats_keys, identifier_keys)"
   ]
  },
  {
   "cell_type": "code",
   "execution_count": null,
   "metadata": {},
   "outputs": [],
   "source": [
    "df[df.mean_b0==0]"
   ]
  },
  {
   "cell_type": "code",
   "execution_count": null,
   "metadata": {},
   "outputs": [],
   "source": [
    "### Block to delete bad data. If the above dataframe is not empty, this code should be executed and also notebook 05 and 06(again),\n",
    "### so previously we need to remove npz directory, which is \"/data/lscalambrin/proyecto_integrador/segmentation/pergamino/patchlets_npz/\" \n",
    "### for pergamino region\n",
    "# tmp = df[df.mean_b0==0]\n",
    "# tmp_list = tmp.patchlet.tolist()\n",
    "# mylist = list( dict.fromkeys(tmp_list) )\n",
    "# for dir_patchlet in mylist:\n",
    "#     if os.path.exists(dir_patchlet):\n",
    "#         shutil.rmtree(dir_patchlet)\n",
    "#         print('in')"
   ]
  },
  {
   "cell_type": "markdown",
   "metadata": {},
   "source": [
    "## Analysis"
   ]
  },
  {
   "cell_type": "code",
   "execution_count": null,
   "metadata": {},
   "outputs": [],
   "source": [
    "# convert to datetime\n",
    "timestamps = df['timestamp'].apply(lambda d: d.tz_localize(None))\n",
    "df['timestamp']=timestamps.astype(np.datetime64)\n",
    "\n",
    "# add \"month\" period\n",
    "df['month']=df.timestamp.dt.to_period(\"M\")"
   ]
  },
  {
   "cell_type": "code",
   "execution_count": null,
   "metadata": {},
   "outputs": [],
   "source": [
    "def plot_distributions(dataframe, stat, stat_title=None):\n",
    "    colors = ['b','g','r','y']\n",
    "    bands = list(range(4))\n",
    "    \n",
    "    if not stat_title:\n",
    "        stat_title = stat\n",
    "\n",
    "    log=True\n",
    "    fig, ax = plt.subplots(nrows=2, ncols=1, figsize=(18,13))\n",
    "    for band in bands:\n",
    "        dataframe.hist(f'{stat}_b{band}', ax=ax[0], range=(0,10000),\n",
    "                       bins=100, log=log, color=colors[band], \n",
    "                       alpha=0.3, label=f'b{band}')\n",
    "    ax[0].legend()\n",
    "    ax[0].grid(axis='x')\n",
    "    ax[0].set_title(f'Histograms of {stat_title}');\n",
    "\n",
    "    log=False\n",
    "    for band in bands:\n",
    "        dataframe.hist(f'{stat}_b{band}', cumulative=True,  range=(0,10000),\n",
    "                       density=True, ax=ax[1], bins=100, log=log, \n",
    "                       color=colors[band], alpha=0.3, label=f'b{band}')\n",
    "    ax[1].legend()\n",
    "    ax[1].grid(axis='x')\n",
    "    ax[1].set_title(f'Cumulative distributions of {stat_title}');"
   ]
  },
  {
   "cell_type": "code",
   "execution_count": null,
   "metadata": {},
   "outputs": [],
   "source": [
    "plot_distributions(df, 'mean','means')"
   ]
  },
  {
   "cell_type": "markdown",
   "metadata": {},
   "source": [
    "### How do distributions change through time?"
   ]
  },
  {
   "cell_type": "code",
   "execution_count": null,
   "metadata": {},
   "outputs": [],
   "source": [
    "aggs = {}\n",
    "stat_cols = []\n",
    "stats = ['perc_99', 'mean', 'median', 'std']\n",
    "bands = list(range(4))\n",
    "for stat in stats:\n",
    "    for band in bands:\n",
    "        aggs[f'{stat}_b{band}'] = [np.std, np.mean];\n",
    "        stat_cols.append(f'{stat}_b{band}')"
   ]
  },
  {
   "cell_type": "code",
   "execution_count": null,
   "metadata": {},
   "outputs": [],
   "source": [
    "monthly = pd.DataFrame(df.groupby('month', as_index=False)[stat_cols].agg(aggs))\n",
    "monthly.columns = ['_'.join(col).strip() for col in monthly.columns.values]\n",
    "monthly.rename(columns={'month_':'month'}, inplace=True)"
   ]
  },
  {
   "cell_type": "code",
   "execution_count": null,
   "metadata": {},
   "outputs": [],
   "source": [
    "monthly"
   ]
  },
  {
   "cell_type": "code",
   "execution_count": 1,
   "metadata": {},
   "outputs": [],
   "source": [
    "def monthly_stats(monthly_df, stat, stat_title=None):\n",
    "    fig, ax = plt.subplots(figsize=(12,9))\n",
    "    cols = ['b','g','r','y']\n",
    "    bands = ['Azul', 'Verde', 'Roja', 'NIR']\n",
    "    if not stat_title:\n",
    "        stat_title = stat\n",
    "        \n",
    "    for band in range(4):\n",
    "        x_vals = np.array([m.month if m.month>=9 else m.month+12 for m in monthly_df['month']])\n",
    "\n",
    "        ax.plot(x_vals, monthly_df[f'{stat}_b{band}_mean'].values, \n",
    "                color=cols[band], label=f'Banda {bands[band]}')\n",
    "        \n",
    "        ax.scatter(x_vals, monthly_df[f'{stat}_b{band}_mean'].values, \n",
    "                color=cols[band])\n",
    "        ax.fill_between(x_vals, \n",
    "                        monthly_df[f'{stat}_b{band}_mean'].values - \n",
    "                        monthly_df[f'{stat}_b{band}_std'].values, \n",
    "                        monthly_df[f'{stat}_b{band}_mean'].values + \n",
    "                        monthly_df[f'{stat}_b{band}_std'].values, color=cols[band], \n",
    "                        alpha=0.2)\n",
    "        str_month_list = ['a','Sep','Oct','Nov','Dic','En', 'Feb','Mar']\n",
    "#         ax.set_xticks(range(9,15) \n",
    "        ax.set_xticklabels(str_month_list)\n",
    "    ax.tick_params(direction='out', length=6, width=2, grid_alpha=0.5,labelsize = 15)\n",
    "    ax.legend(fontsize = 15)\n",
    "    ax.grid()\n",
    "    ax.set_title(f'{stat_title} through months')\n",
    "#     ax.set_title('Valor medio', fontsize = 19)\n",
    "    ax.set_title('Desviación estándar', fontsize = 19)"
   ]
  },
  {
   "cell_type": "code",
   "execution_count": null,
   "metadata": {},
   "outputs": [],
   "source": [
    "monthly_stats(monthly, 'mean', 'means')"
   ]
  },
  {
   "cell_type": "code",
   "execution_count": null,
   "metadata": {},
   "outputs": [],
   "source": [
    "monthly_stats(monthly, 'std', 'standard deviations')"
   ]
  },
  {
   "cell_type": "markdown",
   "metadata": {},
   "source": [
    "## Normalization factors per month per band"
   ]
  },
  {
   "cell_type": "markdown",
   "metadata": {},
   "source": [
    "We calculate normalization factors for two different normalizations"
   ]
  },
  {
   "cell_type": "code",
   "execution_count": null,
   "metadata": {},
   "outputs": [],
   "source": [
    "norm_cols = [norm.format(band) \n",
    "             for norm in ['perc_99_b{0}_mean', \n",
    "                          'mean_b{0}_mean', \n",
    "                          'median_b{0}_mean', \n",
    "                          'std_b{0}_mean'] for band in range(4)]\n",
    "\n",
    "def norms(month):\n",
    "    return monthly.loc[monthly.month==month][norm_cols].values[0]"
   ]
  },
  {
   "cell_type": "code",
   "execution_count": null,
   "metadata": {},
   "outputs": [],
   "source": [
    "df['norm_perc99_b0'], df['norm_perc99_b1'], df['norm_perc99_b2'], df['norm_perc99_b3'], \\\n",
    "df['norm_meanstd_mean_b0'], df['norm_meanstd_mean_b1'], df['norm_meanstd_mean_b2'], df['norm_meanstd_mean_b3'], \\\n",
    "df['norm_meanstd_median_b0'], df['norm_meanstd_median_b1'], df['norm_meanstd_median_b2'], df['norm_meanstd_median_b3'], \\\n",
    "df['norm_meanstd_std_b0'], df['norm_meanstd_std_b1'], df['norm_meanstd_std_b2'], df['norm_meanstd_std_b3'] = zip(*map(norms, df.month))"
   ]
  },
  {
   "cell_type": "code",
   "execution_count": null,
   "metadata": {},
   "outputs": [],
   "source": [
    "# another check; should be similar to `monthly_stats(monthly, 'mean','means')`\n",
    "df[['month','norm_meanstd_mean_b0','norm_meanstd_mean_b1','norm_meanstd_mean_b2','norm_meanstd_mean_b3']].drop_duplicates().reset_index(drop=True).plot()"
   ]
  },
  {
   "cell_type": "markdown",
   "metadata": {},
   "source": [
    "## Add this info to patchlet info"
   ]
  },
  {
   "cell_type": "code",
   "execution_count": null,
   "metadata": {},
   "outputs": [],
   "source": [
    "df.columns"
   ]
  },
  {
   "cell_type": "code",
   "execution_count": null,
   "metadata": {},
   "outputs": [],
   "source": [
    "len(df)"
   ]
  },
  {
   "cell_type": "code",
   "execution_count": null,
   "metadata": {},
   "outputs": [],
   "source": [
    "with open(config.metadata_file, 'rb') as fcsv:\n",
    "    df_info = pd.read_csv(fcsv)"
   ]
  },
  {
   "cell_type": "code",
   "execution_count": null,
   "metadata": {},
   "outputs": [],
   "source": [
    "df_info['timestamp'] = pd.to_datetime(df_info.timestamp)"
   ]
  },
  {
   "cell_type": "code",
   "execution_count": null,
   "metadata": {},
   "outputs": [],
   "source": [
    "timestamps = df_info['timestamp'].apply(lambda d: d.tz_localize(None))\n",
    "df_info['timestamp'] = timestamps.astype(np.datetime64)"
   ]
  },
  {
   "cell_type": "code",
   "execution_count": null,
   "metadata": {},
   "outputs": [],
   "source": [
    "df_info.head()"
   ]
  },
  {
   "cell_type": "code",
   "execution_count": null,
   "metadata": {},
   "outputs": [],
   "source": [
    "new_df = df_info.merge(df, how='inner', on=['patchlet', 'timestamp'])"
   ]
  },
  {
   "cell_type": "code",
   "execution_count": null,
   "metadata": {},
   "outputs": [],
   "source": [
    "len(new_df)"
   ]
  },
  {
   "cell_type": "code",
   "execution_count": null,
   "metadata": {},
   "outputs": [],
   "source": [
    "new_df.head()"
   ]
  },
  {
   "cell_type": "code",
   "execution_count": null,
   "metadata": {},
   "outputs": [],
   "source": [
    "with open(config.metadata_file, 'w') as fcsv:\n",
    "    new_df.to_csv(fcsv, index=False)"
   ]
  }
 ],
 "metadata": {
  "kernelspec": {
   "display_name": "Python 3",
   "language": "python",
   "name": "python3"
  },
  "language_info": {
   "codemirror_mode": {
    "name": "ipython",
    "version": 3
   },
   "file_extension": ".py",
   "mimetype": "text/x-python",
   "name": "python",
   "nbconvert_exporter": "python",
   "pygments_lexer": "ipython3",
   "version": "3.8.6"
  }
 },
 "nbformat": 4,
 "nbformat_minor": 4
}
